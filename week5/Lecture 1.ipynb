{
 "cells": [
  {
   "cell_type": "markdown",
   "metadata": {
    "slideshow": {
     "slide_type": "notes"
    }
   },
   "source": [
    "Week 5 - lecture 1\n",
    "Exception Handling\n",
    "\n",
    "Topics convered:\n",
    "1) Syntax"
   ]
  },
  {
   "cell_type": "code",
   "execution_count": 7,
   "metadata": {
    "slideshow": {
     "slide_type": "-"
    }
   },
   "outputs": [
    {
     "name": "stdout",
     "output_type": "stream",
     "text": [
      "Processing data\n",
      "All did go well\n"
     ]
    }
   ],
   "source": [
    "try:\n",
    "    print(\"Processing data\")\n",
    "except (ValueError, NameError, KeyError, KeyboardInterrupt): #Multiple anticipated errors have to be given in tuple\n",
    "    print(\"Something terrible has happened\")\n",
    "else:\n",
    "    print(\"All did go well\")"
   ]
  },
  {
   "cell_type": "markdown",
   "metadata": {},
   "source": [
    "2) Try, Except, else, finally(not covered in course)"
   ]
  },
  {
   "cell_type": "code",
   "execution_count": 14,
   "metadata": {},
   "outputs": [
    {
     "name": "stdout",
     "output_type": "stream",
     "text": [
      "[10, 11, 12, 13, 14, 15, 16, 17, 18, 19]\n",
      "I will try to get value at 11th index of the list\n",
      "I handled a index error\n"
     ]
    }
   ],
   "source": [
    "a_list = [x for x in range(10,20)]\n",
    "print(a_list)\n",
    "try:\n",
    "    print(\"I will try to get value at 11th index of the list\")\n",
    "    print(a_list[11])\n",
    "except IndexError:\n",
    "    print(\"I handled a index error, looks like 11th index doen't exist\")\n",
    "else:\n",
    "    print(\"Everything went will\")"
   ]
  }
 ],
 "metadata": {
  "kernelspec": {
   "display_name": "Python 3",
   "language": "python",
   "name": "python3"
  },
  "language_info": {
   "codemirror_mode": {
    "name": "ipython",
    "version": 3
   },
   "file_extension": ".py",
   "mimetype": "text/x-python",
   "name": "python",
   "nbconvert_exporter": "python",
   "pygments_lexer": "ipython3",
   "version": "3.5.2"
  }
 },
 "nbformat": 4,
 "nbformat_minor": 2
}
